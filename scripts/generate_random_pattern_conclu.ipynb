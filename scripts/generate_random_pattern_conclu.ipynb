{
 "cells": [
  {
   "cell_type": "code",
   "execution_count": 4,
   "source": [
    "import matplotlib.pyplot as plt\r\n",
    "import matplotlib as mpl\r\n",
    "import numpy as np\r\n",
    "from math import pi, sqrt, atan, atan2, cos, sin\r\n",
    "import math\r\n",
    "from sklearn.linear_model import LinearRegression\r\n",
    "import matplotlib.animation as animation\r\n",
    "from matplotlib import rcParams\r\n",
    "import random"
   ],
   "outputs": [],
   "metadata": {}
  },
  {
   "cell_type": "code",
   "execution_count": 3,
   "source": [
    "%matplotlib inline"
   ],
   "outputs": [],
   "metadata": {}
  },
  {
   "cell_type": "code",
   "execution_count": 24,
   "source": [
    "np.round(np.random.rand(5,12))"
   ],
   "outputs": [
    {
     "output_type": "execute_result",
     "data": {
      "text/plain": [
       "array([[1., 1., 1., 0., 0., 1., 1., 1., 0., 0., 1., 1.],\n",
       "       [1., 0., 0., 0., 1., 0., 1., 1., 1., 1., 0., 0.],\n",
       "       [1., 1., 0., 0., 0., 0., 1., 0., 0., 0., 1., 0.],\n",
       "       [1., 1., 0., 0., 0., 0., 0., 1., 0., 0., 0., 0.],\n",
       "       [0., 1., 1., 0., 0., 1., 0., 1., 0., 1., 0., 0.]])"
      ]
     },
     "metadata": {},
     "execution_count": 24
    }
   ],
   "metadata": {}
  }
 ],
 "metadata": {
  "orig_nbformat": 4,
  "language_info": {
   "name": "python",
   "version": "3.8.3",
   "mimetype": "text/x-python",
   "codemirror_mode": {
    "name": "ipython",
    "version": 3
   },
   "pygments_lexer": "ipython3",
   "nbconvert_exporter": "python",
   "file_extension": ".py"
  },
  "kernelspec": {
   "name": "python3",
   "display_name": "Python 3.8.3 64-bit ('base': conda)"
  },
  "interpreter": {
   "hash": "f1d16d7309765d8df0402dfcd9010d6ac723b42875da1197d88a20752c98acea"
  }
 },
 "nbformat": 4,
 "nbformat_minor": 2
}