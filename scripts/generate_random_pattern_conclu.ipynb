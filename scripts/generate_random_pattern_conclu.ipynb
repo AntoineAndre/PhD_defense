{
 "cells": [
  {
   "cell_type": "code",
   "execution_count": 4,
   "metadata": {},
   "outputs": [],
   "source": [
    "import matplotlib.pyplot as plt\n",
    "import matplotlib as mpl\n",
    "import numpy as np\n",
    "from math import pi, sqrt, atan, atan2, cos, sin\n",
    "import math\n",
    "from sklearn.linear_model import LinearRegression\n",
    "import matplotlib.animation as animation\n",
    "from matplotlib import rcParams\n",
    "import random"
   ]
  },
  {
   "cell_type": "code",
   "execution_count": 3,
   "metadata": {},
   "outputs": [],
   "source": [
    "%matplotlib inline"
   ]
  },
  {
   "cell_type": "code",
   "execution_count": 24,
   "metadata": {},
   "outputs": [
    {
     "data": {
      "text/plain": [
       "array([[1., 1., 1., 0., 0., 1., 1., 1., 0., 0., 1., 1.],\n",
       "       [1., 0., 0., 0., 1., 0., 1., 1., 1., 1., 0., 0.],\n",
       "       [1., 1., 0., 0., 0., 0., 1., 0., 0., 0., 1., 0.],\n",
       "       [1., 1., 0., 0., 0., 0., 0., 1., 0., 0., 0., 0.],\n",
       "       [0., 1., 1., 0., 0., 1., 0., 1., 0., 1., 0., 0.]])"
      ]
     },
     "execution_count": 24,
     "metadata": {},
     "output_type": "execute_result"
    }
   ],
   "source": [
    "np.round(np.random.rand(5,12))"
   ]
  }
 ],
 "metadata": {
  "interpreter": {
   "hash": "f1d16d7309765d8df0402dfcd9010d6ac723b42875da1197d88a20752c98acea"
  },
  "kernelspec": {
   "display_name": "Python 3.8.3 64-bit ('base': conda)",
   "name": "python3"
  },
  "language_info": {
   "codemirror_mode": {
    "name": "ipython",
    "version": 3
   },
   "file_extension": ".py",
   "mimetype": "text/x-python",
   "name": "python",
   "nbconvert_exporter": "python",
   "pygments_lexer": "ipython3",
   "version": "3.8.3"
  },
  "orig_nbformat": 4
 },
 "nbformat": 4,
 "nbformat_minor": 2
}
